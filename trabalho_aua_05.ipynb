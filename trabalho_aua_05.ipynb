{
 "cells": [
  {
   "cell_type": "markdown",
   "metadata": {},
   "source": [
    "### Pandas\n",
    "\n",
    "O Pandas é uma biblioteca de código aberto para a linguagem de programação Python, amplamente utilizada\n",
    "para análise e manipulação de dados. Foi criada para tornar o trabalho com dados mais eficiente e intuitivo.\n",
    "\n",
    "#### O que é?\n",
    "\n",
    "Pandas oferece estruturas de dados e funções para trabalhar com dados tabulares e séries temporais. \n",
    "\n",
    "As principais estruturas fornecidas são:\n",
    "\n",
    "DataFrame: Uma estrutura de dados bidimensional, semelhante a uma tabela SQL ou uma planilha do Excel, \n",
    "onde você pode armazenar dados em linhas e colunas.\n",
    "Series: Uma estrutura de dados unidimensional, semelhante a um vetor ou uma coluna em uma tabela.\n",
    "\n",
    "#### Para que serve?\n",
    "\n",
    "Pandas é usado para diversas tarefas no processamento de dados, incluindo:\n",
    "\n",
    "Leitura e Escrita de Dados: Pode ler e escrever dados em vários formatos, como CSV, Excel, SQL, \n",
    "JSON, entre outros.\n",
    "\n",
    "Manipulação de Dados: Permite filtrar, classificar, agregar, e transformar dados facilmente.\n",
    "\n",
    "Limpeza de Dados: Facilita o tratamento de dados ausentes e duplicados, além de permitir a \n",
    "conversão e normalização de dados.\n",
    "\n",
    "Análise de Dados: Oferece ferramentas para realizar análises estatísticas e operações matemáticas \n",
    "sobre conjuntos de dados.\n",
    "\n",
    "Visualização: Embora não seja uma biblioteca de visualização, Pandas integra-se bem com bibliotecas \n",
    "como Matplotlib e Seaborn para criar gráficos e visualizar dados.\n",
    "\n",
    "Se você estiver lidando com dados em Python, o Pandas é uma ferramenta essencial para facilitar \n",
    "o processo e tornar as tarefas mais eficientes."
   ]
  },
  {
   "cell_type": "markdown",
   "metadata": {},
   "source": [
    "### NumPy\n",
    "\n",
    "NumPy é uma biblioteca fundamental para computação científica em Python. Ela fornece suporte para arrays \n",
    "e matrizes multidimensionais, além de uma coleção de funções matemáticas para operar nesses arrays de \n",
    "forma eficiente.\n",
    "\n",
    "Características do NumPy\n",
    "\n",
    "Arrays Multidimensionais: O objeto principal do NumPy é o ndarray, uma estrutura de dados eficiente \n",
    "para armazenar grandes matrizes e arrays multidimensionais.\n",
    "\n",
    "Operações Matemáticas e Lógicas: Permite realizar operações matemáticas e lógicas em arrays sem a \n",
    "necessidade de escrever loops.\n",
    "\n",
    "Funções Estatísticas: Inclui muitas funções para cálculos estatísticos, como média, desvio padrão, e variância.\n",
    "\n",
    "Álgebra Linear: Oferece suporte para operações de álgebra linear, incluindo decomposições de matriz \n",
    "e soluções de sistemas de equações lineares.\n",
    "\n",
    "Integração com outras Bibliotecas: NumPy é compatível com outras bibliotecas populares de Python, como SciPy, \n",
    "Pandas, Matplotlib, entre outras.\n",
    "\n",
    "Performance: As operações do NumPy são executadas de forma eficiente, muitas vezes aproveitando bibliotecas\n",
    "de baixo nível, como BLAS e LAPACK, otimizando o desempenho.\n",
    "\n",
    "Usos Principais do NumPy\n",
    "\n",
    "Análise de Dados: NumPy é amplamente usado para análise e manipulação de dados. Ele é a base\n",
    "para outras bibliotecas de análise de dados, como Pandas.\n",
    "\n",
    "Computação Científica e Engenharia: Usado em áreas como física, química, biologia, e engenharia para\n",
    "realizar cálculos complexos.\n",
    "\n",
    "Machine Learning: Muitas bibliotecas de aprendizado de máquina, como TensorFlow e scikit-learn, usam\n",
    "NumPy para manipulação de dados e cálculos numéricos.\n",
    "\n",
    "Desenvolvimento de Jogos: Utilizado em gráficos computacionais e simulações físicas.\n",
    "\n",
    "Visualização de Dados: Trabalha em conjunto com bibliotecas de visualização como Matplotlib para criar\n",
    "gráficos e visualizações de dados."
   ]
  },
  {
   "cell_type": "markdown",
   "metadata": {},
   "source": [
    "### Como carregar dados no pandas?\n",
    "\n",
    "Carregar dados no Pandas é uma tarefa bastante comum e pode ser feita a partir de várias fontes,\n",
    "como arquivos CSV, Excel, SQL, JSON, entre outros. O Pandas fornece funções específicas para lidar \n",
    "com cada um desses tipos de dados.\n",
    "\n",
    "#### Carregar Dados de um Arquivo CSV\n",
    "\n",
    "Para carregar dados de um arquivo CSV, você pode usar a função read_csv:"
   ]
  },
  {
   "cell_type": "code",
   "execution_count": null,
   "metadata": {},
   "outputs": [],
   "source": [
    "import pandas as pd\n",
    "\n",
    "# Carregar dados de um arquivo CSV\n",
    "df = pd.read_csv('caminho/para/arquivo.csv')\n",
    "print(df.head())  # Mostrar as primeiras linhas do DataFrame"
   ]
  },
  {
   "cell_type": "markdown",
   "metadata": {},
   "source": [
    "#### Carregar Dados de um Arquivo Excel\n",
    "\n",
    "Para carregar dados de um arquivo Excel, você pode usar a função read_excel:"
   ]
  },
  {
   "cell_type": "code",
   "execution_count": null,
   "metadata": {},
   "outputs": [],
   "source": [
    "import pandas as pd\n",
    "\n",
    "# Carregar dados de um arquivo Excel\n",
    "df = pd.read_excel('caminho/para/arquivo.xlsx', sheet_name='Nome_da_Planilha')\n",
    "print(df.head())  # Mostrar as primeiras linhas do DataFrame"
   ]
  },
  {
   "cell_type": "markdown",
   "metadata": {},
   "source": [
    "#### Carregar Dados de um Banco de Dados SQL\n",
    "\n",
    "Para carregar dados de um banco de dados SQL, você pode usar a função read_sql_query ou read_sql_table junto com uma conexão SQLAlchemy:"
   ]
  },
  {
   "cell_type": "code",
   "execution_count": null,
   "metadata": {},
   "outputs": [],
   "source": [
    "import pandas as pd\n",
    "from sqlalchemy import create_engine\n",
    "\n",
    "# Criar uma conexão ao banco de dados\n",
    "engine = create_engine('sqlite:///caminho/para/arquivo.db')\n",
    "\n",
    "# Carregar dados de uma consulta SQL\n",
    "query = \"SELECT * FROM tabela\"\n",
    "df = pd.read_sql_query(query, engine)\n",
    "print(df.head())  # Mostrar as primeiras linhas do DataFrame"
   ]
  },
  {
   "cell_type": "markdown",
   "metadata": {},
   "source": [
    "#### Carregar Dados de um Arquivo JSON\n",
    "\n",
    "Para carregar dados de um arquivo JSON, você pode usar a função read_json:"
   ]
  },
  {
   "cell_type": "code",
   "execution_count": null,
   "metadata": {},
   "outputs": [],
   "source": [
    "import pandas as pd\n",
    "\n",
    "# Carregar dados de um arquivo JSON\n",
    "df = pd.read_json('caminho/para/arquivo.json')\n",
    "print(df.head())  # Mostrar as primeiras linhas do DataFrame"
   ]
  },
  {
   "cell_type": "markdown",
   "metadata": {},
   "source": [
    "#### Carregar Dados de um Arquivo HTML\n",
    "\n",
    "Para carregar dados de uma tabela em um arquivo HTML, você pode usar a função read_html:"
   ]
  },
  {
   "cell_type": "code",
   "execution_count": null,
   "metadata": {},
   "outputs": [],
   "source": [
    "import pandas as pd\n",
    "\n",
    "# Carregar dados de uma tabela em um arquivo HTML\n",
    "url = 'http://exemplo.com/tabela.html'\n",
    "df_list = pd.read_html(url)\n",
    "df = df_list[0]  # Assumindo que a tabela desejada é a primeira na lista\n",
    "print(df.head())  # Mostrar as primeiras linhas do DataFrame"
   ]
  },
  {
   "cell_type": "markdown",
   "metadata": {},
   "source": [
    "#### Carregar Dados de um Arquivo Parquet\n",
    "\n",
    "Para carregar dados de um arquivo Parquet, você pode usar a função read_parquet:"
   ]
  },
  {
   "cell_type": "code",
   "execution_count": null,
   "metadata": {},
   "outputs": [],
   "source": [
    "import pandas as pd\n",
    "\n",
    "# Carregar dados de um arquivo Parquet\n",
    "df = pd.read_parquet('caminho/para/arquivo.parquet')\n",
    "print(df.head())  # Mostrar as primeiras linhas do DataFrame"
   ]
  },
  {
   "cell_type": "markdown",
   "metadata": {},
   "source": [
    "Esses são alguns dos métodos mais comuns para carregar dados no Pandas. Dependendo da sua fonte de dados, você pode escolher o método apropriado para carregar e manipular os dados de forma eficiente."
   ]
  },
  {
   "cell_type": "markdown",
   "metadata": {},
   "source": [
    "## Como criar um DataFrame?\n",
    "\n",
    "Criar um DataFrame no Pandas pode ser feito de várias maneiras, dependendo dos dados de origem. Aqui estão alguns métodos comuns para criar um DataFrame:\n",
    "\n",
    "### Criar um DataFrame a partir de um Dicionário\n",
    "\n",
    "Cada chave do dicionário será uma coluna no DataFrame e os valores serão os dados dessas colunas."
   ]
  },
  {
   "cell_type": "code",
   "execution_count": null,
   "metadata": {},
   "outputs": [],
   "source": [
    "import pandas as pd\n",
    "\n",
    "# Criar um DataFrame a partir de um dicionário\n",
    "data = {\n",
    "    'Nome': ['Alice', 'Bob', 'Charlie'],\n",
    "    'Idade': [25, 30, 35],\n",
    "    'Cidade': ['São Paulo', 'Rio de Janeiro', 'Belo Horizonte']\n",
    "}\n",
    "df = pd.DataFrame(data)\n",
    "print(df)"
   ]
  },
  {
   "cell_type": "markdown",
   "metadata": {},
   "source": [
    "### Criar um DataFrame a partir de uma Lista de Listas\n",
    "\n",
    "Cada lista interna será uma linha no DataFrame. Você também pode especificar os nomes das colunas."
   ]
  },
  {
   "cell_type": "code",
   "execution_count": null,
   "metadata": {},
   "outputs": [],
   "source": [
    "import pandas as pd\n",
    "\n",
    "# Criar um DataFrame a partir de uma lista de listas\n",
    "data = [\n",
    "    ['Alice', 25, 'São Paulo'],\n",
    "    ['Bob', 30, 'Rio de Janeiro'],\n",
    "    ['Charlie', 35, 'Belo Horizonte']\n",
    "]\n",
    "colunas = ['Nome', 'Idade', 'Cidade']\n",
    "df = pd.DataFrame(data, columns=colunas)\n",
    "print(df)"
   ]
  },
  {
   "cell_type": "markdown",
   "metadata": {},
   "source": [
    "### Criar um DataFrame a partir de uma Lista de Dicionários\n",
    "\n",
    "Cada dicionário na lista será uma linha no DataFrame."
   ]
  },
  {
   "cell_type": "code",
   "execution_count": null,
   "metadata": {},
   "outputs": [],
   "source": [
    "import pandas as pd\n",
    "\n",
    "# Criar um DataFrame a partir de uma lista de dicionários\n",
    "data = [\n",
    "    {'Nome': 'Alice', 'Idade': 25, 'Cidade': 'São Paulo'},\n",
    "    {'Nome': 'Bob', 'Idade': 30, 'Cidade': 'Rio de Janeiro'},\n",
    "    {'Nome': 'Charlie', 'Idade': 35, 'Cidade': 'Belo Horizonte'}\n",
    "]\n",
    "df = pd.DataFrame(data)\n",
    "print(df)"
   ]
  },
  {
   "cell_type": "markdown",
   "metadata": {},
   "source": [
    "### Criar um DataFrame a partir de um Array NumPy\n",
    "\n",
    "Você pode usar um array NumPy para criar um DataFrame. Também pode especificar os nomes das colunas."
   ]
  },
  {
   "cell_type": "code",
   "execution_count": null,
   "metadata": {},
   "outputs": [],
   "source": [
    "import pandas as pd\n",
    "import numpy as np\n",
    "\n",
    "# Criar um DataFrame a partir de um array NumPy\n",
    "data = np.array([\n",
    "    ['Alice', 25, 'São Paulo'],\n",
    "    ['Bob', 30, 'Rio de Janeiro'],\n",
    "    ['Charlie', 35, 'Belo Horizonte']\n",
    "])\n",
    "colunas = ['Nome', 'Idade', 'Cidade']\n",
    "df = pd.DataFrame(data, columns=colunas)\n",
    "print(df)"
   ]
  },
  {
   "cell_type": "markdown",
   "metadata": {},
   "source": [
    "### Criar um DataFrame Vazio e Adicionar Dados Posteriormente\n",
    "\n",
    "Você pode criar um DataFrame vazio e adicionar dados linha por linha."
   ]
  },
  {
   "cell_type": "code",
   "execution_count": null,
   "metadata": {},
   "outputs": [],
   "source": [
    "import pandas as pd\n",
    "\n",
    "# Criar um DataFrame vazio\n",
    "df = pd.DataFrame(columns=['Nome', 'Idade', 'Cidade'])\n",
    "\n",
    "# Adicionar dados ao DataFrame\n",
    "df = df.append({'Nome': 'Alice', 'Idade': 25, 'Cidade': 'São Paulo'}, ignore_index=True)\n",
    "df = df.append({'Nome': 'Bob', 'Idade': 30, 'Cidade': 'Rio de Janeiro'}, ignore_index=True)\n",
    "df = df.append({'Nome': 'Charlie', 'Idade': 35, 'Cidade': 'Belo Horizonte'}, ignore_index=True)\n",
    "\n",
    "print(df)"
   ]
  },
  {
   "cell_type": "markdown",
   "metadata": {},
   "source": [
    "### Criar um DataFrame a partir de uma Série\n",
    "\n",
    "Você pode criar um DataFrame a partir de uma ou mais Séries."
   ]
  },
  {
   "cell_type": "code",
   "execution_count": null,
   "metadata": {},
   "outputs": [],
   "source": [
    "import pandas as pd\n",
    "\n",
    "# Criar Séries\n",
    "nomes = pd.Series(['Alice', 'Bob', 'Charlie'])\n",
    "idades = pd.Series([25, 30, 35])\n",
    "cidades = pd.Series(['São Paulo', 'Rio de Janeiro', 'Belo Horizonte'])\n",
    "\n",
    "# Criar um DataFrame a partir das Séries\n",
    "df = pd.DataFrame({'Nome': nomes, 'Idade': idades, 'Cidade': cidades})\n",
    "print(df)\n"
   ]
  },
  {
   "cell_type": "markdown",
   "metadata": {},
   "source": [
    "Esses métodos cobrem as maneiras mais comuns de criar DataFrames no Pandas, permitindo a criação de estruturas de dados a partir de diferentes tipos de fontes."
   ]
  },
  {
   "cell_type": "markdown",
   "metadata": {},
   "source": [
    "## O que são series?\n",
    "\n",
    "Em Pandas, uma Series é uma estrutura de dados unidimensional, semelhante a um array unidimensional ou a uma coluna de uma tabela. \n",
    "Uma Series pode armazenar qualquer tipo de dado, incluindo inteiros, floats, \n",
    "strings e objetos Python, e possui um índice associado que rotula cada elemento na Series.\n",
    "\n",
    "#### Características de uma Series\n",
    "\n",
    "Unidimensional: Uma Series é essencialmente uma lista de valores com um índice associado.\n",
    "\n",
    "Indexada: Cada valor na Series tem um rótulo ou índice, que pode ser usado para acessar os dados.\n",
    "\n",
    "Tipo de Dado Flexível: Uma Series pode conter qualquer tipo de dado, incluindo números, strings, datas, etc.\n",
    "\n",
    "Métodos e Operações: Series vêm com muitos métodos e operações úteis, como operações aritméticas, agregações e filtragens.\n",
    "\n",
    "\n",
    "### A Partir de uma Lista"
   ]
  },
  {
   "cell_type": "code",
   "execution_count": null,
   "metadata": {},
   "outputs": [],
   "source": [
    "import pandas as pd\n",
    "\n",
    "# Criar uma Series a partir de uma lista\n",
    "s = pd.Series([1, 2, 3, 4, 5])\n",
    "print(s)"
   ]
  },
  {
   "cell_type": "markdown",
   "metadata": {},
   "source": [
    "### A Partir de um Dicionário\n",
    "\n",
    "Quando criada a partir de um dicionário, as chaves do dicionário se tornam os índices da Series."
   ]
  },
  {
   "cell_type": "code",
   "execution_count": null,
   "metadata": {},
   "outputs": [],
   "source": [
    "import pandas as pd\n",
    "\n",
    "# Criar uma Series a partir de um dicionário\n",
    "data = {'a': 1, 'b': 2, 'c': 3}\n",
    "s = pd.Series(data)\n",
    "print(s)"
   ]
  },
  {
   "cell_type": "markdown",
   "metadata": {},
   "source": [
    "### A Partir de um Scalar\n",
    "\n",
    "Criar uma Series com um valor constante e um índice personalizado."
   ]
  },
  {
   "cell_type": "code",
   "execution_count": null,
   "metadata": {},
   "outputs": [],
   "source": [
    "import pandas as pd\n",
    "\n",
    "# Criar uma Series a partir de um valor escalar\n",
    "s = pd.Series(5, index=['a', 'b', 'c'])\n",
    "print(s)"
   ]
  },
  {
   "cell_type": "markdown",
   "metadata": {},
   "source": [
    "### Especificando um Índice\n",
    "\n",
    "Ao criar uma Series, você pode especificar um índice personalizado."
   ]
  },
  {
   "cell_type": "code",
   "execution_count": null,
   "metadata": {},
   "outputs": [],
   "source": [
    "import pandas as pd\n",
    "\n",
    "# Criar uma Series com um índice personalizado\n",
    "s = pd.Series([1, 2, 3], index=['a', 'b', 'c'])\n",
    "print(s)\n"
   ]
  },
  {
   "cell_type": "markdown",
   "metadata": {},
   "source": [
    "## Acessando Dados em uma Series\n",
    "\n",
    "Você pode acessar dados em uma Series de várias maneiras, usando rótulos ou posições."
   ]
  },
  {
   "cell_type": "markdown",
   "metadata": {},
   "source": [
    "### Acessar Por Índice"
   ]
  },
  {
   "cell_type": "code",
   "execution_count": null,
   "metadata": {},
   "outputs": [],
   "source": [
    "import pandas as pd\n",
    "\n",
    "s = pd.Series([1, 2, 3, 4, 5], index=['a', 'b', 'c', 'd', 'e'])\n",
    "\n",
    "# Acessar um elemento por rótulo\n",
    "print(s['b'])\n",
    "\n",
    "# Acessar um elemento por posição\n",
    "print(s[1])\n"
   ]
  },
  {
   "cell_type": "markdown",
   "metadata": {},
   "source": [
    "### Slicing (Fatiamento)"
   ]
  },
  {
   "cell_type": "code",
   "execution_count": null,
   "metadata": {},
   "outputs": [],
   "source": [
    "import pandas as pd\n",
    "\n",
    "s = pd.Series([1, 2, 3, 4, 5], index=['a', 'b', 'c', 'd', 'e'])\n",
    "\n",
    "# Acessar um intervalo de elementos\n",
    "print(s['b':'d'])\n",
    "\n",
    "# Acessar um intervalo de elementos por posição\n",
    "print(s[1:4])\n"
   ]
  },
  {
   "cell_type": "markdown",
   "metadata": {},
   "source": [
    "### Operações com Series\n",
    "\n",
    "Series suportam operações aritméticas e métodos agregados."
   ]
  },
  {
   "cell_type": "code",
   "execution_count": null,
   "metadata": {},
   "outputs": [],
   "source": [
    "import pandas as pd\n",
    "\n",
    "s1 = pd.Series([1, 2, 3], index=['a', 'b', 'c'])\n",
    "s2 = pd.Series([4, 5, 6], index=['a', 'b', 'c'])\n",
    "\n",
    "# Operações aritméticas\n",
    "s3 = s1 + s2\n",
    "print(s3)\n",
    "\n",
    "# Métodos agregados\n",
    "print(s1.sum())\n",
    "print(s1.mean())\n",
    "print(s1.max())\n",
    "print(s1.min())\n"
   ]
  },
  {
   "cell_type": "markdown",
   "metadata": {},
   "source": [
    "As Series são a estrutura básica para manipulação de dados no Pandas e são usadas extensivamente como blocos de\n",
    "construção para DataFrames, que são essencialmente coleções de Series alinhadas por um índice comum."
   ]
  },
  {
   "cell_type": "markdown",
   "metadata": {},
   "source": [
    "### Como mostrar um Cabeçalho e rodapé?\n",
    "\n",
    "No Pandas, você pode visualizar partes específicas de um DataFrame, como o cabeçalho (primeiras linhas) e o rodapé (últimas linhas), usando os métodos head() e tail(). \n",
    "Esses métodos são úteis para obter uma visão rápida dos dados no DataFrame.\n",
    "\n",
    "#### Exemplo de Cabeçalho\n",
    "\n",
    "O método head() exibe as primeiras linhas do DataFrame. Por padrão, ele exibe as primeiras 5 linhas, mas você pode especificar o número de linhas a serem exibidas passando um argumento."
   ]
  },
  {
   "cell_type": "code",
   "execution_count": null,
   "metadata": {},
   "outputs": [],
   "source": [
    "import pandas as pd\n",
    "\n",
    "# Criar um DataFrame de exemplo\n",
    "data = {\n",
    "    'Nome': ['Alice', 'Bob', 'Charlie', 'David', 'Eve', 'Frank'],\n",
    "    'Idade': [25, 30, 35, 40, 45, 50],\n",
    "    'Cidade': ['São Paulo', 'Rio de Janeiro', 'Belo Horizonte', 'Curitiba', 'Porto Alegre', 'Salvador']\n",
    "}\n",
    "df = pd.DataFrame(data)\n",
    "\n",
    "# Mostrar as primeiras 5 linhas do DataFrame\n",
    "print(df.head())\n",
    "\n",
    "# Mostrar as primeiras 3 linhas do DataFrame\n",
    "print(df.head(3))\n"
   ]
  },
  {
   "cell_type": "markdown",
   "metadata": {},
   "source": [
    "#### Exemplo de Rodapé\n",
    "\n",
    "O método tail() exibe as últimas linhas do DataFrame. Por padrão, ele exibe as últimas 5 linhas, mas você pode especificar o número de linhas a serem exibidas passando um argumento."
   ]
  },
  {
   "cell_type": "code",
   "execution_count": null,
   "metadata": {},
   "outputs": [],
   "source": [
    "import pandas as pd\n",
    "\n",
    "# Criar um DataFrame de exemplo\n",
    "data = {\n",
    "    'Nome': ['Alice', 'Bob', 'Charlie', 'David', 'Eve', 'Frank'],\n",
    "    'Idade': [25, 30, 35, 40, 45, 50],\n",
    "    'Cidade': ['São Paulo', 'Rio de Janeiro', 'Belo Horizonte', 'Curitiba', 'Porto Alegre', 'Salvador']\n",
    "}\n",
    "df = pd.DataFrame(data)\n",
    "\n",
    "# Mostrar as últimas 5 linhas do DataFrame\n",
    "print(df.tail())\n",
    "\n",
    "# Mostrar as últimas 3 linhas do DataFrame\n",
    "print(df.tail(3))\n"
   ]
  },
  {
   "cell_type": "markdown",
   "metadata": {},
   "source": [
    "#### Mostrar Cabeçalho e Rodapé Simultaneamente\n",
    "\n",
    "Você pode mostrar o cabeçalho e o rodapé simultaneamente, combinando o uso de 'head()' e 'tail()':"
   ]
  },
  {
   "cell_type": "code",
   "execution_count": null,
   "metadata": {},
   "outputs": [],
   "source": [
    "import pandas as pd\n",
    "\n",
    "# Criar um DataFrame de exemplo\n",
    "data = {\n",
    "    'Nome': ['Alice', 'Bob', 'Charlie', 'David', 'Eve', 'Frank'],\n",
    "    'Idade': [25, 30, 35, 40, 45, 50],\n",
    "    'Cidade': ['São Paulo', 'Rio de Janeiro', 'Belo Horizonte', 'Curitiba', 'Porto Alegre', 'Salvador']\n",
    "}\n",
    "df = pd.DataFrame(data)\n",
    "\n",
    "# Mostrar as primeiras 2 linhas do DataFrame\n",
    "print(\"Cabeçalho:\")\n",
    "print(df.head(2))\n",
    "\n",
    "# Mostrar as últimas 2 linhas do DataFrame\n",
    "print(\"\\nRodapé:\")\n",
    "print(df.tail(2))\n"
   ]
  },
  {
   "cell_type": "markdown",
   "metadata": {},
   "source": [
    "Esses métodos são muito úteis para inspecionar rapidamente os dados no DataFrame e verificar se eles foram carregados corretamente."
   ]
  },
  {
   "cell_type": "markdown",
   "metadata": {},
   "source": [
    "## Como ver a quantidade de entrada do DataFrame?\n",
    "\n",
    "Para visualizar a quantidade de entradas (linhas) em um DataFrame no Pandas, você pode usar o método 'shape', a função 'len()', ou o método 'info()'. Cada um desses métodos oferece uma forma ligeiramente diferente de obter informações sobre o DataFrame.\n",
    "\n",
    "### Usando 'shape'\n",
    "\n",
    "O atributo 'shape' retorna uma tupla que representa as dimensões do DataFrame: '(número_de_linhas, número_de_colunas)'."
   ]
  },
  {
   "cell_type": "code",
   "execution_count": null,
   "metadata": {},
   "outputs": [],
   "source": [
    "import pandas as pd\n",
    "\n",
    "# Criar um DataFrame de exemplo\n",
    "data = {\n",
    "    'Nome': ['Alice', 'Bob', 'Charlie', 'David', 'Eve', 'Frank'],\n",
    "    'Idade': [25, 30, 35, 40, 45, 50],\n",
    "    'Cidade': ['São Paulo', 'Rio de Janeiro', 'Belo Horizonte', 'Curitiba', 'Porto Alegre', 'Salvador']\n",
    "}\n",
    "df = pd.DataFrame(data)\n",
    "\n",
    "# Ver a quantidade de entradas (linhas) no DataFrame\n",
    "num_linhas = df.shape[0]\n",
    "print(f\"Quantidade de entradas: {num_linhas}\")\n"
   ]
  },
  {
   "cell_type": "markdown",
   "metadata": {},
   "source": [
    "### Usando 'len()'\n",
    "\n",
    "A função 'len()' pode ser usada diretamente no DataFrame para obter o número de linhas."
   ]
  },
  {
   "cell_type": "code",
   "execution_count": null,
   "metadata": {},
   "outputs": [],
   "source": [
    "import pandas as pd\n",
    "\n",
    "# Criar um DataFrame de exemplo\n",
    "data = {\n",
    "    'Nome': ['Alice', 'Bob', 'Charlie', 'David', 'Eve', 'Frank'],\n",
    "    'Idade': [25, 30, 35, 40, 45, 50],\n",
    "    'Cidade': ['São Paulo', 'Rio de Janeiro', 'Belo Horizonte', 'Curitiba', 'Porto Alegre', 'Salvador']\n",
    "}\n",
    "df = pd.DataFrame(data)\n",
    "\n",
    "# Ver a quantidade de entradas (linhas) no DataFrame\n",
    "num_linhas = len(df)\n",
    "print(f\"Quantidade de entradas: {num_linhas}\")"
   ]
  },
  {
   "cell_type": "markdown",
   "metadata": {},
   "source": [
    "### Usando 'info()'\n",
    "\n",
    "O método 'info()' exibe um resumo informativo sobre o DataFrame, incluindo o número de entradas (linhas), o número de colunas, os nomes das colunas, o tipo de dados de cada coluna e a quantidade de valores não nulos."
   ]
  },
  {
   "cell_type": "code",
   "execution_count": null,
   "metadata": {},
   "outputs": [],
   "source": [
    "import pandas as pd\n",
    "\n",
    "# Criar um DataFrame de exemplo\n",
    "data = {\n",
    "    'Nome': ['Alice', 'Bob', 'Charlie', 'David', 'Eve', 'Frank'],\n",
    "    'Idade': [25, 30, 35, 40, 45, 50],\n",
    "    'Cidade': ['São Paulo', 'Rio de Janeiro', 'Belo Horizonte', 'Curitiba', 'Porto Alegre', 'Salvador']\n",
    "}\n",
    "df = pd.DataFrame(data)\n",
    "\n",
    "# Exibir um resumo informativo sobre o DataFrame\n",
    "df.info()\n"
   ]
  },
  {
   "cell_type": "markdown",
   "metadata": {},
   "source": [
    "Esses métodos fornecem uma maneira rápida e eficiente de obter informações sobre o tamanho e a estrutura do seu DataFrame no Pandas."
   ]
  },
  {
   "cell_type": "markdown",
   "metadata": {},
   "source": [
    "## Como retornar o número de linhas e colunas de um DataFrame?\n",
    "\n",
    "Para retornar o número de linhas e colunas de um DataFrame no Pandas, você pode usar o atributo 'shape', que retorna uma tupla com o número de linhas e colunas. Aqui está um exemplo de como fazer isso:\n",
    "\n",
    "Usando 'shape'\n",
    "\n",
    "O atributo 'shape' retorna uma tupla com o formato (número_de_linhas, número_de_colunas)."
   ]
  },
  {
   "cell_type": "code",
   "execution_count": null,
   "metadata": {},
   "outputs": [],
   "source": [
    "import pandas as pd\n",
    "\n",
    "# Criar um DataFrame de exemplo\n",
    "data = {\n",
    "    'Nome': ['Alice', 'Bob', 'Charlie', 'David', 'Eve', 'Frank'],\n",
    "    'Idade': [25, 30, 35, 40, 45, 50],\n",
    "    'Cidade': ['São Paulo', 'Rio de Janeiro', 'Belo Horizonte', 'Curitiba', 'Porto Alegre', 'Salvador']\n",
    "}\n",
    "df = pd.DataFrame(data)\n",
    "\n",
    "# Obter o número de linhas e colunas\n",
    "num_linhas, num_colunas = df.shape\n",
    "print(f\"Número de linhas: {num_linhas}\")\n",
    "print(f\"Número de colunas: {num_colunas}\")\n"
   ]
  },
  {
   "cell_type": "markdown",
   "metadata": {},
   "source": [
    "### Usando Métodos Específicos\n",
    "\n",
    "Se preferir, você pode usar os métodos específicos para obter o número de linhas '(len(df)') e colunas '(len(df.columns)'):"
   ]
  },
  {
   "cell_type": "code",
   "execution_count": null,
   "metadata": {},
   "outputs": [],
   "source": [
    "import pandas as pd\n",
    "\n",
    "# Criar um DataFrame de exemplo\n",
    "data = {\n",
    "    'Nome': ['Alice', 'Bob', 'Charlie', 'David', 'Eve', 'Frank'],\n",
    "    'Idade': [25, 30, 35, 40, 45, 50],\n",
    "    'Cidade': ['São Paulo', 'Rio de Janeiro', 'Belo Horizonte', 'Curitiba', 'Porto Alegre', 'Salvador']\n",
    "}\n",
    "df = pd.DataFrame(data)\n",
    "\n",
    "# Obter o número de linhas\n",
    "num_linhas = len(df)\n",
    "print(f\"Número de linhas: {num_linhas}\")\n",
    "\n",
    "# Obter o número de colunas\n",
    "num_colunas = len(df.columns)\n",
    "print(f\"Número de colunas: {num_colunas}\")\n"
   ]
  },
  {
   "cell_type": "markdown",
   "metadata": {},
   "source": [
    "Ambas as abordagens são eficientes e fornecem informações sobre a estrutura do DataFrame. O método shape é mais direto, enquanto os métodos específicos podem ser úteis em situações onde você precisa apenas do número de linhas ou colunas individualmente."
   ]
  },
  {
   "cell_type": "markdown",
   "metadata": {},
   "source": [
    "## Informações do DataFrame\n",
    "\n",
    "Para visualizar as informações de um DataFrame no Pandas, você pode usar o método 'info()'. Esse método fornece um resumo conciso do DataFrame, incluindo o número de entradas (linhas), o número de colunas, os nomes das colunas, o tipo de dados de cada coluna e a quantidade de valores não nulos.\n",
    "\n",
    "### Exemplo de Uso do 'info()'"
   ]
  },
  {
   "cell_type": "code",
   "execution_count": null,
   "metadata": {},
   "outputs": [],
   "source": [
    "import pandas as pd\n",
    "\n",
    "# Criar um DataFrame de exemplo\n",
    "data = {\n",
    "    'Nome': ['Alice', 'Bob', 'Charlie', 'David', 'Eve', 'Frank'],\n",
    "    'Idade': [25, 30, 35, 40, 45, 50],\n",
    "    'Cidade': ['São Paulo', 'Rio de Janeiro', 'Belo Horizonte', 'Curitiba', 'Porto Alegre', 'Salvador']\n",
    "}\n",
    "df = pd.DataFrame(data)\n",
    "\n",
    "# Exibir informações sobre o DataFrame\n",
    "df.info()\n"
   ]
  },
  {
   "cell_type": "markdown",
   "metadata": {},
   "source": [
    "#### Saída Esperada\n",
    "\n",
    "O método 'info()' gera uma saída como esta:"
   ]
  },
  {
   "cell_type": "code",
   "execution_count": null,
   "metadata": {},
   "outputs": [],
   "source": [
    "<class 'pandas.core.frame.DataFrame'>\n",
    "RangeIndex: 6 entries, 0 to 5\n",
    "Data columns (total 3 columns):\n",
    " #   Column  Non-Null Count  Dtype \n",
    "---  ------  --------------  ----- \n",
    " 0   Nome    6 non-null      object\n",
    " 1   Idade   6 non-null      int64 \n",
    " 2   Cidade  6 non-null      object\n",
    "dtypes: int64(1), object(2)\n",
    "memory usage: 272.0+ bytes\n"
   ]
  },
  {
   "cell_type": "markdown",
   "metadata": {},
   "source": [
    "### Outros Métodos Úteis para Visualizar Informações\n",
    "\n",
    "Além de 'info()', existem outros métodos que podem ser úteis para obter informações \n",
    "sobre um DataFrame:\n",
    "\n",
    "#### 'describe()':\n",
    "Fornece estatísticas descritivas resumidas para colunas numéricas (ou todas as colunas, se especificado)."
   ]
  },
  {
   "cell_type": "code",
   "execution_count": null,
   "metadata": {},
   "outputs": [],
   "source": [
    "# Exibir estatísticas descritivas resumidas\n",
    "print(df.describe())\n"
   ]
  },
  {
   "cell_type": "markdown",
   "metadata": {},
   "source": [
    "#### 'head(n)':\n",
    "Mostra as primeiras n linhas do DataFrame (por padrão, as primeiras 5 linhas)."
   ]
  },
  {
   "cell_type": "code",
   "execution_count": null,
   "metadata": {},
   "outputs": [],
   "source": [
    "# Mostrar as primeiras 5 linhas do DataFrame\n",
    "print(df.head())\n"
   ]
  },
  {
   "cell_type": "markdown",
   "metadata": {},
   "source": [
    "#### 'tail(n)':\n",
    "Mostra as últimas n linhas do DataFrame (por padrão, as últimas 5 linhas)."
   ]
  },
  {
   "cell_type": "code",
   "execution_count": null,
   "metadata": {},
   "outputs": [],
   "source": [
    "# Mostrar as últimas 5 linhas do DataFrame\n",
    "print(df.tail())"
   ]
  },
  {
   "cell_type": "markdown",
   "metadata": {},
   "source": [
    "#### 'dtypes':\n",
    "Mostra os tipos de dados de cada coluna."
   ]
  },
  {
   "cell_type": "code",
   "execution_count": null,
   "metadata": {},
   "outputs": [],
   "source": [
    "# Mostrar os tipos de dados de cada coluna\n",
    "print(df.dtypes)\n"
   ]
  },
  {
   "cell_type": "markdown",
   "metadata": {},
   "source": [
    "#### 'columns':\n",
    "Retorna o índice dos nomes das colunas."
   ]
  },
  {
   "cell_type": "code",
   "execution_count": null,
   "metadata": {},
   "outputs": [],
   "source": [
    "# Mostrar os nomes das colunas\n",
    "print(df.columns)\n"
   ]
  },
  {
   "cell_type": "markdown",
   "metadata": {},
   "source": [
    "#### 'shape':\n",
    "Retorna uma tupla com o número de linhas e colunas do DataFrame."
   ]
  },
  {
   "cell_type": "code",
   "execution_count": null,
   "metadata": {},
   "outputs": [],
   "source": [
    "# Mostrar o número de linhas e colunas\n",
    "print(df.shape)\n"
   ]
  },
  {
   "cell_type": "markdown",
   "metadata": {},
   "source": [
    "Esses métodos fornecem uma maneira abrangente de inspecionar e entender a estrutura e o conteúdo de um DataFrame no Pandas."
   ]
  },
  {
   "cell_type": "markdown",
   "metadata": {},
   "source": [
    "## Tabela (tipos de informações)"
   ]
  },
  {
   "attachments": {
    "Capturar.JPG": {
     "image/jpeg": "[encoded data removed]"
    }
   },
   "cell_type": "markdown",
   "metadata": {},
   "source": [
    "![Capturar.JPG](attachment:Capturar.JPG)"
   ]
  },
  {
   "cell_type": "markdown",
   "metadata": {},
   "source": [
    "## Como examinar tipos no Pandas?\n",
    "\n",
    "Para examinar os tipos de dados em um DataFrame do Pandas, você pode usar uma variedade de métodos e atributos que fornecem informações sobre os tipos de dados de cada coluna. Aqui estão alguns dos métodos e atributos mais úteis:\n",
    "\n",
    "### dtypes\n",
    "O atributo 'dtypes' retorna uma Série que mostra o tipo de dados de cada coluna no DataFrame."
   ]
  },
  {
   "cell_type": "code",
   "execution_count": null,
   "metadata": {},
   "outputs": [],
   "source": [
    "import pandas as pd\n",
    "\n",
    "# Criar um DataFrame de exemplo\n",
    "data = {\n",
    "    'Nome': ['Alice', 'Bob', 'Charlie'],\n",
    "    'Idade': [25, 30, 35],\n",
    "    'Data de Nascimento': pd.to_datetime(['1999-05-14', '1994-07-22', '1988-09-10']),\n",
    "    'Salário': [50000.0, 60000.0, 70000.0],\n",
    "    'Ativo': [True, False, True]\n",
    "}\n",
    "df = pd.DataFrame(data)\n",
    "\n",
    "# Exibir os tipos de dados de cada coluna\n",
    "print(df.dtypes)\n"
   ]
  },
  {
   "cell_type": "markdown",
   "metadata": {},
   "source": [
    "### info()\n",
    "\n",
    "O método info() fornece um resumo geral do DataFrame, incluindo o número de entradas não nulas e o tipo de dados de cada coluna."
   ]
  },
  {
   "cell_type": "code",
   "execution_count": null,
   "metadata": {},
   "outputs": [],
   "source": [
    "import pandas as pd\n",
    "\n",
    "# Criar um DataFrame de exemplo\n",
    "data = {\n",
    "    'Nome': ['Alice', 'Bob', 'Charlie'],\n",
    "    'Idade': [25, 30, 35],\n",
    "    'Data de Nascimento': pd.to_datetime(['1999-05-14', '1994-07-22', '1988-09-10']),\n",
    "    'Salário': [50000.0, 60000.0, 70000.0],\n",
    "    'Ativo': [True, False, True]\n",
    "}\n",
    "df = pd.DataFrame(data)\n",
    "\n",
    "# Exibir informações gerais do DataFrame\n",
    "df.info()\n"
   ]
  },
  {
   "cell_type": "markdown",
   "metadata": {},
   "source": [
    "### astype()\n",
    "O método astype() é usado para converter o tipo de dados de uma coluna para outro tipo. Isso pode ser útil se você quiser garantir que uma coluna tenha um tipo específico."
   ]
  },
  {
   "cell_type": "code",
   "execution_count": null,
   "metadata": {},
   "outputs": [],
   "source": [
    "import pandas as pd\n",
    "\n",
    "# Criar um DataFrame de exemplo\n",
    "data = {\n",
    "    'Idade': ['25', '30', '35']\n",
    "}\n",
    "df = pd.DataFrame(data)\n",
    "\n",
    "# Converter a coluna 'Idade' para tipo inteiro\n",
    "df['Idade'] = df['Idade'].astype(int)\n",
    "print(df.dtypes)\n"
   ]
  },
  {
   "cell_type": "markdown",
   "metadata": {},
   "source": [
    "### select_dtypes()\n",
    "O método select_dtypes() permite selecionar colunas com tipos de dados específicos. Isso é útil para filtrar colunas por tipo."
   ]
  },
  {
   "cell_type": "code",
   "execution_count": null,
   "metadata": {},
   "outputs": [],
   "source": [
    "import pandas as pd\n",
    "\n",
    "# Criar um DataFrame de exemplo\n",
    "data = {\n",
    "    'Nome': ['Alice', 'Bob', 'Charlie'],\n",
    "    'Idade': [25, 30, 35],\n",
    "    'Data de Nascimento': pd.to_datetime(['1999-05-14', '1994-07-22', '1988-09-10']),\n",
    "    'Salário': [50000.0, 60000.0, 70000.0],\n",
    "    'Ativo': [True, False, True]\n",
    "}\n",
    "df = pd.DataFrame(data)\n",
    "\n",
    "# Selecionar apenas colunas com tipo de dados float\n",
    "float_columns = df.select_dtypes(include='float64')\n",
    "print(float_columns)\n"
   ]
  },
  {
   "cell_type": "markdown",
   "metadata": {},
   "source": [
    "### applymap()\n",
    "O método applymap() pode ser usado para aplicar uma função a cada elemento do DataFrame. Embora não seja diretamente usado para examinar tipos de dados, pode ser útil para verificar ou converter tipos em todas as células."
   ]
  },
  {
   "cell_type": "code",
   "execution_count": null,
   "metadata": {},
   "outputs": [],
   "source": [
    "import pandas as pd\n",
    "\n",
    "# Criar um DataFrame de exemplo\n",
    "data = {\n",
    "    'Idade': [25, 30, 35],\n",
    "    'Salário': [50000.0, 60000.0, 70000.0]\n",
    "}\n",
    "df = pd.DataFrame(data)\n",
    "\n",
    "# Aplicar uma função para verificar o tipo de dado de cada elemento\n",
    "type_check = df.applymap(type)\n",
    "print(type_check)\n"
   ]
  },
  {
   "cell_type": "markdown",
   "metadata": {},
   "source": [
    "Esses métodos e atributos fornecem diferentes formas de explorar e manipular tipos de dados em um DataFrame do Pandas."
   ]
  },
  {
   "cell_type": "markdown",
   "metadata": {},
   "source": [
    "## Explique sobre o Describe\n",
    "\n",
    "O método describe() no Pandas é usado para gerar estatísticas descritivas resumidas sobre os dados em um DataFrame. Ele é útil para obter uma visão geral rápida das características principais das colunas numéricas ou categóricas em seu conjunto de dados.\n",
    "\n",
    "Funcionalidade do describe()\n",
    "Para Colunas Numéricas: O describe() fornece informações estatísticas como contagem, média, desvio padrão, valores mínimos e máximos, e percentis (25%, 50% e 75%).\n",
    "Para Colunas Categóricas: O describe() fornece informações como a contagem de entradas, número de categorias únicas, valor mais frequente (moda) e frequência do valor mais frequente.\n",
    "Exemplo de Uso\n",
    "Aqui está um exemplo de como usar o describe() em um DataFrame com diferentes tipos de dados:"
   ]
  },
  {
   "cell_type": "code",
   "execution_count": null,
   "metadata": {},
   "outputs": [],
   "source": [
    "import pandas as pd\n",
    "\n",
    "# Criar um DataFrame de exemplo\n",
    "data = {\n",
    "    'Nome': ['Alice', 'Bob', 'Charlie', 'David', 'Eve'],\n",
    "    'Idade': [25, 30, 35, 40, 45],\n",
    "    'Salário': [50000.0, 60000.0, 70000.0, 80000.0, 90000.0],\n",
    "    'Data de Nascimento': pd.to_datetime(['1999-05-14', '1994-07-22', '1988-09-10', '1980-12-01', '1995-03-15']),\n",
    "    'Ativo': [True, False, True, True, False]\n",
    "}\n",
    "df = pd.DataFrame(data)\n",
    "\n",
    "# Obter estatísticas descritivas para colunas numéricas\n",
    "print(df.describe())\n"
   ]
  },
  {
   "cell_type": "markdown",
   "metadata": {},
   "source": [
    "### Saída Esperada\n",
    "Para as colunas numéricas (Idade e Salário), a saída será algo assim:"
   ]
  },
  {
   "cell_type": "code",
   "execution_count": null,
   "metadata": {},
   "outputs": [],
   "source": [
    "             Idade       Salário\n",
    "count    5.000000      5.000000\n",
    "mean    35.000000  70000.000000\n",
    "std      7.905694  15811.388301\n",
    "min     25.000000  50000.000000\n",
    "25%     30.000000  60000.000000\n",
    "50%     35.000000  70000.000000\n",
    "75%     40.000000  80000.000000\n",
    "max     45.000000  90000.000000\n"
   ]
  },
  {
   "cell_type": "markdown",
   "metadata": {},
   "source": [
    "### Personalização\n",
    "Você pode personalizar o método describe() para incluir informações sobre colunas específicas ou tipos de dados diferentes:\n",
    "\n",
    "- Para Colunas Categóricas: Adicione o parâmetro include com object ou category para descrever colunas não numéricas."
   ]
  },
  {
   "cell_type": "code",
   "execution_count": null,
   "metadata": {},
   "outputs": [],
   "source": [
    "# Obter estatísticas descritivas para colunas categóricas\n",
    "print(df.describe(include=['object']))\n"
   ]
  },
  {
   "cell_type": "markdown",
   "metadata": {},
   "source": [
    "- Para Todos os Tipos de Dados: Use include='all' para incluir estatísticas descritivas para todos os tipos de dados."
   ]
  },
  {
   "cell_type": "code",
   "execution_count": null,
   "metadata": {},
   "outputs": [],
   "source": [
    "# Obter estatísticas descritivas para todos os tipos de dados\n",
    "print(df.describe(include='all'))\n"
   ]
  },
  {
   "cell_type": "markdown",
   "metadata": {},
   "source": [
    "Resumo\n",
    "O 'describe()' é uma ferramenta poderosa para obter uma visão geral rápida e resumida dos dados em um DataFrame, facilitando a análise exploratória e a compreensão das características dos dados."
   ]
  },
  {
   "cell_type": "markdown",
   "metadata": {},
   "source": [
    "## Como acessar apenas uma coluna?\n",
    "\n",
    "Para acessar uma única coluna de um DataFrame no Pandas, você pode usar a notação de colchetes '[]' ou o atributo de acesso com ponto '.'. Aqui estão as maneiras mais comuns de fazer isso:\n",
    "\n",
    "1. Usando Colchetes '[]'\n",
    "Você pode acessar uma coluna usando o nome da coluna dentro de colchetes. Isso retorna uma 'Series' correspondente à coluna selecionada."
   ]
  },
  {
   "cell_type": "code",
   "execution_count": null,
   "metadata": {},
   "outputs": [],
   "source": [
    "import pandas as pd\n",
    "\n",
    "# Criar um DataFrame de exemplo\n",
    "data = {\n",
    "    'Nome': ['Alice', 'Bob', 'Charlie'],\n",
    "    'Idade': [25, 30, 35],\n",
    "    'Salário': [50000.0, 60000.0, 70000.0]\n",
    "}\n",
    "df = pd.DataFrame(data)\n",
    "\n",
    "# Acessar a coluna 'Idade'\n",
    "idade_coluna = df['Idade']\n",
    "print(idade_coluna)"
   ]
  },
  {
   "cell_type": "markdown",
   "metadata": {},
   "source": [
    "2. Usando o Atributo de Acesso com Ponto .\n",
    "Se o nome da coluna é um identificador válido (não contém espaços, não é um nome reservado, etc.), você pode acessá-la como um atributo do DataFrame. Isso também retorna uma 'Series'."
   ]
  },
  {
   "cell_type": "code",
   "execution_count": null,
   "metadata": {},
   "outputs": [],
   "source": [
    "import pandas as pd\n",
    "\n",
    "# Criar um DataFrame de exemplo\n",
    "data = {\n",
    "    'Nome': ['Alice', 'Bob', 'Charlie'],\n",
    "    'Idade': [25, 30, 35],\n",
    "    'Salário': [50000.0, 60000.0, 70000.0]\n",
    "}\n",
    "df = pd.DataFrame(data)\n",
    "\n",
    "# Acessar a coluna 'Idade'\n",
    "idade_coluna = df.Idade\n",
    "print(idade_coluna)\n"
   ]
  },
  {
   "cell_type": "markdown",
   "metadata": {},
   "source": [
    "### Observações\n",
    "- Nomes de Coluna com Espaços ou Caracteres Especiais: Se o nome da coluna contiver espaços ou caracteres especiais, você deve usar a notação de colchetes '[]'. A notação de ponto não funciona para esses casos."
   ]
  },
  {
   "cell_type": "code",
   "execution_count": null,
   "metadata": {},
   "outputs": [],
   "source": [
    "import pandas as pd\n",
    "\n",
    "# Criar um DataFrame com nomes de coluna com espaços\n",
    "data = {\n",
    "    'Nome Completo': ['Alice Smith', 'Bob Johnson', 'Charlie Brown'],\n",
    "    'Idade': [25, 30, 35]\n",
    "}\n",
    "df = pd.DataFrame(data)\n",
    "\n",
    "# Acessar a coluna 'Nome Completo'\n",
    "nome_completo_coluna = df['Nome Completo']\n",
    "print(nome_completo_coluna)\n"
   ]
  },
  {
   "cell_type": "markdown",
   "metadata": {},
   "source": [
    "- Colunas Múltiplas: Para acessar várias colunas, você pode passar uma lista de nomes de colunas para a notação de colchetes."
   ]
  },
  {
   "cell_type": "code",
   "execution_count": null,
   "metadata": {},
   "outputs": [],
   "source": [
    "import pandas as pd\n",
    "\n",
    "# Criar um DataFrame de exemplo\n",
    "data = {\n",
    "    'Nome': ['Alice', 'Bob', 'Charlie'],\n",
    "    'Idade': [25, 30, 35],\n",
    "    'Salário': [50000.0, 60000.0, 70000.0]\n",
    "}\n",
    "df = pd.DataFrame(data)\n",
    "\n",
    "# Acessar as colunas 'Nome' e 'Idade'\n",
    "colunas_selecionadas = df[['Nome', 'Idade']]\n",
    "print(colunas_selecionadas)\n"
   ]
  },
  {
   "cell_type": "markdown",
   "metadata": {},
   "source": [
    "## Fatiar um DataFrame\n",
    "\n",
    "Fatiar um DataFrame no Pandas permite selecionar subconjuntos de dados com base em condições específicas. Aqui estão algumas maneiras de fatiar um DataFrame:\n",
    "\n",
    "1. Selecionar Linhas por Índice\n",
    "Você pode usar a notação de colchetes ou o método iloc para selecionar linhas com base em seus índices.\n",
    "\n",
    "- Selecionar um intervalo de linhas com iloc:"
   ]
  },
  {
   "cell_type": "code",
   "execution_count": null,
   "metadata": {},
   "outputs": [],
   "source": [
    "import pandas as pd\n",
    "\n",
    "# Criar um DataFrame de exemplo\n",
    "data = {\n",
    "    'Nome': ['Alice', 'Bob', 'Charlie', 'David', 'Eve'],\n",
    "    'Idade': [25, 30, 35, 40, 45],\n",
    "    'Salário': [50000.0, 60000.0, 70000.0, 80000.0, 90000.0]\n",
    "}\n",
    "df = pd.DataFrame(data)\n",
    "\n",
    "# Selecionar as linhas de 1 a 3 (exclusivo do índice 4)\n",
    "sub_df = df.iloc[1:4]\n",
    "print(sub_df)\n"
   ]
  },
  {
   "cell_type": "markdown",
   "metadata": {},
   "source": [
    "- Selecionar linhas específicas com iloc:"
   ]
  },
  {
   "cell_type": "code",
   "execution_count": null,
   "metadata": {},
   "outputs": [],
   "source": [
    "# Selecionar linhas com índices 1 e 3\n",
    "sub_df = df.iloc[[1, 3]]\n",
    "print(sub_df)\n"
   ]
  },
  {
   "cell_type": "markdown",
   "metadata": {},
   "source": [
    "2. Selecionar Linhas por Condição\n",
    "Você pode usar condições para filtrar linhas que atendem a certos critérios."
   ]
  },
  {
   "cell_type": "code",
   "execution_count": null,
   "metadata": {},
   "outputs": [],
   "source": [
    "# Selecionar linhas onde a idade é maior que 30\n",
    "sub_df = df[df['Idade'] > 30]\n",
    "print(sub_df)\n"
   ]
  },
  {
   "cell_type": "markdown",
   "metadata": {},
   "source": [
    "3. Selecionar Colunas por Nome\n",
    "Para selecionar colunas específicas, você pode usar a notação de colchetes com o nome das colunas."
   ]
  },
  {
   "cell_type": "code",
   "execution_count": null,
   "metadata": {},
   "outputs": [],
   "source": [
    "# Selecionar as colunas 'Nome' e 'Salário'\n",
    "sub_df = df[['Nome', 'Salário']]\n",
    "print(sub_df)\n"
   ]
  },
  {
   "cell_type": "markdown",
   "metadata": {},
   "source": [
    "4. Selecionar Subconjunto com loc\n",
    "O método loc permite selecionar linhas e colunas por rótulos.\n",
    "\n",
    "- Selecionar um intervalo de linhas e colunas com 'loc':"
   ]
  },
  {
   "cell_type": "code",
   "execution_count": null,
   "metadata": {},
   "outputs": [],
   "source": [
    "# Selecionar linhas com rótulos de 1 a 3 e colunas 'Nome' e 'Idade'\n",
    "sub_df = df.loc[1:3, ['Nome', 'Idade']]\n",
    "print(sub_df)\n"
   ]
  },
  {
   "cell_type": "markdown",
   "metadata": {},
   "source": [
    "5. Combinar Condições para Filtragem\n",
    "Você pode combinar várias condições para um filtro mais complexo."
   ]
  },
  {
   "cell_type": "code",
   "execution_count": null,
   "metadata": {},
   "outputs": [],
   "source": [
    "# Selecionar linhas onde a idade é maior que 30 e o salário é menor que 80000\n",
    "sub_df = df[(df['Idade'] > 30) & (df['Salário'] < 80000)]\n",
    "print(sub_df)\n"
   ]
  },
  {
   "cell_type": "markdown",
   "metadata": {},
   "source": [
    "6. Usar Métodos de Fatiamento Avançados\n",
    "Além de 'iloc' e 'loc', você pode usar métodos avançados como query() para filtragem baseada em expressões."
   ]
  },
  {
   "cell_type": "code",
   "execution_count": null,
   "metadata": {},
   "outputs": [],
   "source": [
    "# Usar query para selecionar linhas onde a idade é menor que 40\n",
    "sub_df = df.query('Idade < 40')\n",
    "print(sub_df)\n"
   ]
  },
  {
   "cell_type": "markdown",
   "metadata": {},
   "source": [
    "## O que é IA?\n",
    "\n",
    "Inteligência Artificial (IA) é um campo da ciência da computação que desenvolve sistemas capazes de realizar tarefas que normalmente requerem inteligência humana, como aprendizado, percepção e tomada de decisões.\n",
    "\n",
    "Tipos de IA\n",
    "1 IA Fraca (Estreita): Sistemas que realizam tarefas específicas (e.g., assistentes virtuais, chatbots).\n",
    "2 IA Forte (Geral): Sistemas com habilidades cognitivas semelhantes às humanas (ainda em pesquisa).\n",
    "3 IA Superinteligente: Inteligência que supera a humana (hipotética e especulativa).\n",
    "\n",
    "#### Subcampos da IA\n",
    "- Aprendizado de Máquina: Sistemas que aprendem com dados.\n",
    "- Processamento de Linguagem Natural (NLP): Interação com linguagem humana.\n",
    "- Visão Computacional: Interpretação de imagens e vídeos.\n",
    "- Robótica: Robôs com IA para tarefas físicas.\n",
    "- Raciocínio e Sistemas Especialistas: Simulação de decisões de especialistas.\n",
    "\n",
    "#### Aplicações\n",
    "- Saúde: Diagnóstico e tratamento.\n",
    "- Finanças: Análise e detecção de fraudes.\n",
    "- Transporte: Veículos autônomos e otimização de rotas.\n",
    "- Educação: Tutores virtuais e personalização do aprendizado.\n",
    "\n",
    "#### Desafios\n",
    "- Privacidade: Uso de dados pessoais.\n",
    "- Bias: Viés nos algoritmos.\n",
    "- Segurança: Riscos e segurança dos sistemas.\n",
    "- Impacto no Trabalho: Efeitos da automação no emprego.\n",
    "\n",
    "A IA está transformando diversas áreas e apresenta grandes oportunidades e desafios."
   ]
  },
  {
   "cell_type": "markdown",
   "metadata": {},
   "source": [
    "## O que é Machine Learnig?\n",
    "\n",
    "Machine Learning (Aprendizado de Máquina) é um subcampo da Inteligência Artificial que desenvolve sistemas capazes de aprender e melhorar a partir de dados sem programação explícita para cada tarefa.\n",
    "\n",
    "#### Tipos Principais\n",
    "1 Aprendizado Supervisionado: Treina o modelo com dados rotulados para fazer previsões ou classificações.\n",
    "2 Aprendizado Não Supervisionado: Descobre padrões em dados não rotulados (e.g., agrupamento).\n",
    "3 Aprendizado Semi-Supervisionado: Usa uma combinação de dados rotulados e não rotulados.\n",
    "4 Aprendizado por Reforço: Aprende a tomar decisões baseadas em recompensas e penalidades.\n",
    "\n",
    "#### Processos\n",
    "1 Coleta e Preparação de Dados: Reunir e limpar dados.\n",
    "2 Escolha e Treinamento do Modelo: Selecionar e ajustar o algoritmo.\n",
    "3 Avaliação: Medir o desempenho do modelo.\n",
    "4 Implantação: Aplicar o modelo em dados novos.\n",
    "5 Manutenção: Atualizar o modelo com novos dados.\n",
    "\n",
    "Algoritmos Comuns\n",
    "- Regressão Linear\n",
    "- Árvores de Decisão\n",
    "- Máquinas de Vetores de Suporte (SVM)\n",
    "- Redes Neurais\n",
    "- K-Means\n",
    "\n",
    "#### Aplicações\n",
    "- Saúde: Diagnóstico e análise médica.\n",
    "- Finanças: Previsão de mercado e detecção de fraudes.\n",
    "- Marketing: Segmentação e recomendação de produtos.\n",
    "- Transporte: Veículos autônomos e otimização de rotas.\n",
    "\n",
    "Machine Learning é usado para criar sistemas que aprendem e se adaptam com base em novos dados e experiências.\n",
    "\n",
    "\n",
    "\n",
    "\n",
    "\n",
    "\n"
   ]
  },
  {
   "cell_type": "markdown",
   "metadata": {},
   "source": [
    "## O que é Deeplearnig?\n",
    "\n",
    "Deep Learning (Aprendizado Profundo) é uma subárea do Machine Learning que utiliza redes neurais artificiais com múltiplas camadas para aprender representações complexas e abstrações dos dados.\n",
    "\n",
    "#### Conceitos Principais\n",
    "- Redes Neurais Profundas: Modelos com muitas camadas ocultas que processam dados em níveis de abstração.\n",
    "- Treinamento: Ajusta os pesos da rede para minimizar o erro, usando algoritmos como o Backpropagation e otimização por Gradiente Descendente.\n",
    "\n",
    "#### Arquiteturas Comuns\n",
    "- Redes Neurais Convolucionais (CNNs): Para visão computacional e reconhecimento de imagem.\n",
    "- Redes Neurais Recorrentes (RNNs): Para dados sequenciais e temporais.\n",
    "- Transformers: Para processamento de linguagem natural.\n",
    "\n",
    "#### Aplicações\n",
    "- Visão Computacional: Reconhecimento de imagem, detecção de objetos.\n",
    "- Processamento de Linguagem Natural: Tradução automática, chatbots.\n",
    "- Reconhecimento de Voz: Transcrição de fala.\n",
    "\n",
    "#### Características\n",
    "- Necessidade de Dados: Funciona melhor com grandes volumes de dados.\n",
    "- Requisitos Computacionais: Requer hardware potente como GPUs.\n",
    "- Desempenho: Frequentemente supera métodos tradicionais em tarefas complexas."
   ]
  },
  {
   "cell_type": "markdown",
   "metadata": {},
   "source": [
    "## A Inteligência Artificial (IA) pode resolver diversos problemas, como:\n",
    "\n",
    "- Saúde: Diagnóstico médico, tratamentos personalizados e descoberta de medicamentos.\n",
    "- Finanças: Detecção de fraudes, previsão de mercado e gerenciamento de risco.\n",
    "- Marketing: Segmentação de clientes, recomendação de produtos e análise de sentimentos.\n",
    "- Transporte: Veículos autônomos, otimização de rotas e gerenciamento de tráfego.\n",
    "- Educação: Tutoria virtual, avaliação automática e análise de desempenho.\n",
    "- Indústria: Manutenção preditiva, controle de qualidade e otimização de processos.\n",
    "Serviços ao Cliente: Chatbots e análise de feedback.\n",
    "- Segurança: Reconhecimento facial e monitoramento de vídeo.\n",
    "- Agricultura: Monitoramento de culturas e previsão de colheitas.\n",
    "\n",
    "A IA melhora a eficiência e a tomada de decisões em diversas áreas, lidando com problemas complexos e desafiadores."
   ]
  },
  {
   "cell_type": "markdown",
   "metadata": {},
   "source": [
    "## Como limpar dados NAN-NA (ausente)\n",
    "\n",
    "Para limpar dados ausentes (NaN/NA) em um DataFrame do Pandas, você pode:\n",
    "\n",
    "- Remover Dados Ausentes: Use df.dropna() para remover linhas ou colunas com NaNs.\n",
    "- Preencher Dados Ausentes: Use df.fillna(valor) para substituir NaNs por um valor fixo, média, mediana, ou moda.\n",
    "- Interpolação: Use df.interpolate() para preencher NaNs com valores interpolados.\n",
    "- Preenchimento com Valores Anteriores ou Posteriores: Use df.ffill() para preencher com o valor anterior ou df.bfill() para preencher com o valor seguinte.\n",
    "\n",
    "Escolha o método com base na quantidade de dados ausentes e na natureza do seu conjunto de dados."
   ]
  }
 ],
 "metadata": {
  "kernelspec": {
   "display_name": ".venv",
   "language": "python",
   "name": "python3"
  },
  "language_info": {
   "name": "python",
   "version": "3.12.4"
  }
 },
 "nbformat": 4,
 "nbformat_minor": 2
}
