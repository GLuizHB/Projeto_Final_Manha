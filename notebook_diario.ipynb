{
 "cells": [
  {
   "cell_type": "code",
   "execution_count": 1,
   "metadata": {},
   "outputs": [
    {
     "name": "stdout",
     "output_type": "stream",
     "text": [
      "Requirement already satisfied: sqlalchemy in c:\\users\\ead\\desktop\\luiz\\projeto_final_manha\\.venv\\lib\\site-packages (2.0.31)\n",
      "Requirement already satisfied: typing-extensions>=4.6.0 in c:\\users\\ead\\desktop\\luiz\\projeto_final_manha\\.venv\\lib\\site-packages (from sqlalchemy) (4.12.2)\n",
      "Requirement already satisfied: greenlet!=0.4.17 in c:\\users\\ead\\desktop\\luiz\\projeto_final_manha\\.venv\\lib\\site-packages (from sqlalchemy) (3.0.3)\n"
     ]
    }
   ],
   "source": [
    "! pip install sqlalchemy"
   ]
  },
  {
   "cell_type": "code",
   "execution_count": null,
   "metadata": {},
   "outputs": [],
   "source": [
    "# variaveis para credenciais\n",
    "\n",
    "user = \"root\"\n",
    "password = \"senai@123\"\n",
    "host = \"localhost\"\n",
    "database = \"projetodiario1\"\n",
    "\n",
    "# passo 2 - url de conexão\n",
    "\n",
    "# passo 3 - create_engine do SQLALchemy (conectar)\n",
    "\n",
    "# passo 4 - consulta de alunos\n",
    "\n",
    "# passo 5 - criar uim dataframe no pandas\n",
    "    #pd.read_sql(query)\n",
    "\n",
    "# passo 6 - mostrar os cinco primeiros\n"
   ]
  }
 ],
 "metadata": {
  "kernelspec": {
   "display_name": ".venv",
   "language": "python",
   "name": "python3"
  },
  "language_info": {
   "codemirror_mode": {
    "name": "ipython",
    "version": 3
   },
   "file_extension": ".py",
   "mimetype": "text/x-python",
   "name": "python",
   "nbconvert_exporter": "python",
   "pygments_lexer": "ipython3",
   "version": "3.12.4"
  }
 },
 "nbformat": 4,
 "nbformat_minor": 2
}
