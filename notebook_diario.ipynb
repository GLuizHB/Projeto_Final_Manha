{
 "cells": [
  {
   "cell_type": "code",
   "execution_count": 1,
   "metadata": {},
   "outputs": [
    {
     "name": "stdout",
     "output_type": "stream",
     "text": [
      "Requirement already satisfied: sqlalchemy in c:\\users\\ead\\desktop\\luiz\\projeto_final_manha\\.venv\\lib\\site-packages (2.0.31)\n",
      "Requirement already satisfied: typing-extensions>=4.6.0 in c:\\users\\ead\\desktop\\luiz\\projeto_final_manha\\.venv\\lib\\site-packages (from sqlalchemy) (4.12.2)\n",
      "Requirement already satisfied: greenlet!=0.4.17 in c:\\users\\ead\\desktop\\luiz\\projeto_final_manha\\.venv\\lib\\site-packages (from sqlalchemy) (3.0.3)\n"
     ]
    }
   ],
   "source": [
    "! pip install sqlalchemy"
   ]
  },
  {
   "cell_type": "code",
   "execution_count": null,
   "metadata": {},
   "outputs": [],
   "source": [
    "# variaveis para credenciais\n",
    "\n",
    "user = \"root\"\n",
    "password = \"senai@123\"\n",
    "host = \"localhost\"\n",
    "database = \"projetodiario1\"\n",
    "\n",
    "# passo 2 - url de conexão\n",
    "\n",
    "# passo 3 - create_engine do SQLALchemy (conectar)\n",
    "\n",
    "# passo 4 - consulta de alunos\n",
    "\n",
    "# passo 5 - criar uim dataframe no pandas\n",
    "    #pd.read_sql(query)\n",
    "\n",
    "# passo 6 - mostrar os cinco primeiros\n"
   ]
  },
  {
   "cell_type": "markdown",
   "metadata": {},
   "source": [
    "## pandas\n",
    "    - O que é?\n",
    "    - Para que serve?\n",
    "\n",
    "## NumPy \\/\n",
    "## Scikit-Learn \\/\n",
    "## Como carregar dados no pandas? \\/\n",
    "## Como criar DataFrame \\/\n",
    "## O que são series? \\/\n",
    "## Como mostrar um Cabeçalho e rodapé? \\/\n",
    "## Como ver a quantidade de entrada do DataFrame? \\/\n",
    "## Como retornar o número de linhas e colunas de um DataFrame? \\/\n",
    "## Informações do DataFrame \\/\n",
    "## Crie uma tabela (tipos de informações) \\/\n",
    "    Excel | MySql | Pandas | Python\n",
    "    -------------------------------\n",
    "    texto |varchar| object |  STR\n",
    "    ______|_______|________|_______\n",
    "\n",
    "## Como examinar tipos no Pandas? \\/\n",
    "## Explique sobre o Describe \\/\n",
    "## Como acessar apenas uma coluna? \\/\n",
    "## Fatiar um DataFrame \\/\n",
    "        [:]\n",
    "## O que é IA? \\/\n",
    "## O que é Machine Learnig? \\/\n",
    "## O que é Deeplearnig?\n",
    "## Quais problemas a IA pode resolver? \\/\n",
    "## Comente sobre funções: \\/\n",
    "    loc()\n",
    "    iloc()\n",
    "\n",
    "## Como limpar dados NAN-NA (ausente)\n",
    "\n",
    "Prof: mirka.santos@sistemafibra.org.br"
   ]
  },
  {
   "cell_type": "markdown",
   "metadata": {},
   "source": [
    "![fbads-pandas.jpg,](\"attachment:fbads-pandas.jpg\") "
   ]
  }
 ],
 "metadata": {
  "kernelspec": {
   "display_name": ".venv",
   "language": "python",
   "name": "python3"
  },
  "language_info": {
   "codemirror_mode": {
    "name": "ipython",
    "version": 3
   },
   "file_extension": ".py",
   "mimetype": "text/x-python",
   "name": "python",
   "nbconvert_exporter": "python",
   "pygments_lexer": "ipython3",
   "version": "3.12.4"
  }
 },
 "nbformat": 4,
 "nbformat_minor": 2
}
